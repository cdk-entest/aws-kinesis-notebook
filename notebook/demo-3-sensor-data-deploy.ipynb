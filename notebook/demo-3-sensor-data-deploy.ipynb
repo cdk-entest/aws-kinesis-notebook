﻿{
  "metadata": {
    "name": "Demo 3 Sensor Data Deploy",
    "kernelspec": {
      "language": "scala",
      "name": "spark2-scala"
    },
    "language_info": {
      "codemirror_mode": "text/x-scala",
      "file_extension": ".scala",
      "mimetype": "text/x-scala",
      "name": "scala",
      "pygments_lexer": "scala"
    }
  },
  "nbformat": 4,
  "nbformat_minor": 2,
  "cells": [
    {
      "cell_type": "markdown",
      "metadata": {},
      "source": "## Introduction \n\n- Create sensor-input-stream and sensor-output-stream\n- Create a table for sensor-input-stream \n- Do some analytics \n- Write to sensor-output-stream\n- Query sensor-otuput-stream "
    },
    {
      "cell_type": "markdown",
      "metadata": {},
      "source": " \n## Create an In-Memory Table Connecting to sensor-stream "
    },
    {
      "cell_type": "code",
      "execution_count": 2,
      "metadata": {
        "autoscroll": "auto"
      },
      "outputs": [],
      "source": "%flink.ssql \nDROP TABLE IF EXISTS sensor_data\n"
    },
    {
      "cell_type": "code",
      "execution_count": 3,
      "metadata": {
        "autoscroll": "auto"
      },
      "outputs": [],
      "source": "%flink.ssql\n\nCREATE TABLE sensor_data (\n    sensor_id INTEGER,\n    current_temperature DOUBLE,\n    status VARCHAR(6),\n    event_time TIMESTAMP(3),\n    WATERMARK FOR event_time AS event_time - INTERVAL \u00275\u0027 SECOND\n)\nPARTITIONED BY (sensor_id)\nWITH (\n    \u0027connector\u0027 \u003d \u0027kinesis\u0027,\n    \u0027stream\u0027 \u003d \u0027sensor-stream\u0027,\n    \u0027aws.region\u0027 \u003d \u0027ap-southeast-1\u0027,\n    \u0027scan.stream.initpos\u0027 \u003d \u0027LATEST\u0027,\n    \u0027format\u0027 \u003d \u0027json\u0027,\n    \u0027json.timestamp-format.standard\u0027 \u003d \u0027ISO-8601\u0027\n)"
    },
    {
      "cell_type": "markdown",
      "metadata": {},
      "source": "## Create sensor-output-stream Table \n"
    },
    {
      "cell_type": "code",
      "execution_count": 5,
      "metadata": {
        "autoscroll": "auto"
      },
      "outputs": [],
      "source": "%flink.ssql \nDROP TABLE IF EXISTS sensor_state"
    },
    {
      "cell_type": "code",
      "execution_count": 6,
      "metadata": {
        "autoscroll": "auto"
      },
      "outputs": [],
      "source": "%flink.ssql\n\nCREATE TABLE sensor_state (\n    status VARCHAR(6),\n    num BIGINT,\n    avg_current_temperature DOUBLE,\n    hop_time TIMESTAMP(3)\n)\nWITH (\n\u0027connector\u0027 \u003d \u0027kinesis\u0027,\n\u0027stream\u0027 \u003d \u0027sensor-output-stream\u0027,\n\u0027aws.region\u0027 \u003d \u0027ap-southeast-1\u0027,\n\u0027scan.stream.initpos\u0027 \u003d \u0027LATEST\u0027,\n\u0027format\u0027 \u003d \u0027json\u0027,\n\u0027json.timestamp-format.standard\u0027 \u003d \u0027ISO-8601\u0027);"
    },
    {
      "cell_type": "markdown",
      "metadata": {},
      "source": " \n## Insert Records into sensor-output-stream Table \n"
    },
    {
      "cell_type": "code",
      "execution_count": 8,
      "metadata": {
        "autoscroll": "auto"
      },
      "outputs": [],
      "source": "%flink.ssql(type\u003dupdate)\n\nINSERT INTO sensor_state\nSELECT sensor_data.status,\n    COUNT(*) AS num,\n    AVG(sensor_data.current_temperature) AS avg_current_temperature,\n    HOP_ROWTIME(sensor_data.event_time, INTERVAL \u002710\u0027 second, INTERVAL \u00271\u0027 minute) as hop_time\nFROM sensor_data\nGROUP BY HOP(sensor_data.event_time, INTERVAL \u002710\u0027 second, INTERVAL \u00271\u0027 minute), sensor_data.status;"
    }
  ]
}